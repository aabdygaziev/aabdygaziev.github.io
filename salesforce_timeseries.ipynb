{
 "cells": [
  {
   "cell_type": "markdown",
   "metadata": {},
   "source": [
    "# Time-series data stationarization on Salesforce's share price example\n",
    "\n",
    "<a href='https://en.wikipedia.org/wiki/Salesforce'> Salesforce.com, inc.</a> is an American cloud-based software company headquartered in San Francisco, California. It provides customer relationship management (CRM) service and also sells a complementary suite of enterprise applications focused on customer service, marketing automation, analytics, and application development (Wikipedia).\n",
    "\n",
    "The data set is from <a href= 'https://www.alphavantage.co/#about'> alphavantage </a>. It is very easy to obtain the stock price information from the website. Just follow the documentation."
   ]
  },
  {
   "cell_type": "markdown",
   "metadata": {},
   "source": [
    "Before everything esle, we need data. So let's get it!"
   ]
  },
  {
   "cell_type": "code",
   "execution_count": null,
   "metadata": {},
   "outputs": [],
   "source": [
    "# API Key:LX71H2XX0HSO5PAO "
   ]
  },
  {
   "cell_type": "markdown",
   "metadata": {},
   "source": [
    "Let's upload required library..."
   ]
  },
  {
   "cell_type": "code",
   "execution_count": 5,
   "metadata": {},
   "outputs": [],
   "source": [
    "import requests\n",
    "import json\n",
    "import pandas as pd\n",
    "from scipy import stats\n",
    "import numpy as np\n",
    "import matplotlib.pyplot as plt\n",
    "from datetime import datetime\n",
    "\n",
    "import statsmodels.api as sm\n",
    "import warnings\n",
    "from itertools import product\n",
    "\n",
    "warnings.filterwarnings('ignore')\n",
    "# plt.style.use('seaborn-poster')"
   ]
  },
  {
   "cell_type": "code",
   "execution_count": 2,
   "metadata": {},
   "outputs": [
    {
     "data": {
      "text/plain": [
       "{'1. Information': 'Daily Time Series with Splits and Dividend Events',\n",
       " '2. Symbol': 'CRM',\n",
       " '3. Last Refreshed': '2020-02-21',\n",
       " '4. Output Size': 'Full size',\n",
       " '5. Time Zone': 'US/Eastern'}"
      ]
     },
     "execution_count": 2,
     "metadata": {},
     "output_type": "execute_result"
    }
   ],
   "source": [
    "# getting the data from aplhavantage using API key\n",
    "url = 'https://www.alphavantage.co/query?function=TIME_SERIES_DAILY_ADJUSTED&symbol=CRM&outputsize=full&apikey=LX71H2XX0HSO5PAO'\n",
    "resp = requests.get(url)\n",
    "resp.json()['Meta Data']"
   ]
  },
  {
   "cell_type": "markdown",
   "metadata": {},
   "source": [
    "As you can see, the Meta Data node contains the data that we need."
   ]
  },
  {
   "cell_type": "code",
   "execution_count": 3,
   "metadata": {},
   "outputs": [],
   "source": [
    "df = pd.DataFrame(resp.json()['Time Series (Daily)']) # converting json to dataframe"
   ]
  },
  {
   "cell_type": "code",
   "execution_count": 4,
   "metadata": {},
   "outputs": [
    {
     "data": {
      "text/html": [
       "<div>\n",
       "<style scoped>\n",
       "    .dataframe tbody tr th:only-of-type {\n",
       "        vertical-align: middle;\n",
       "    }\n",
       "\n",
       "    .dataframe tbody tr th {\n",
       "        vertical-align: top;\n",
       "    }\n",
       "\n",
       "    .dataframe thead th {\n",
       "        text-align: right;\n",
       "    }\n",
       "</style>\n",
       "<table border=\"1\" class=\"dataframe\">\n",
       "  <thead>\n",
       "    <tr style=\"text-align: right;\">\n",
       "      <th></th>\n",
       "      <th>2020-02-21</th>\n",
       "      <th>2020-02-20</th>\n",
       "      <th>2020-02-19</th>\n",
       "      <th>2020-02-18</th>\n",
       "      <th>2020-02-14</th>\n",
       "      <th>2020-02-13</th>\n",
       "      <th>2020-02-12</th>\n",
       "      <th>2020-02-11</th>\n",
       "      <th>2020-02-10</th>\n",
       "      <th>2020-02-07</th>\n",
       "      <th>...</th>\n",
       "      <th>2004-07-07</th>\n",
       "      <th>2004-07-06</th>\n",
       "      <th>2004-07-02</th>\n",
       "      <th>2004-07-01</th>\n",
       "      <th>2004-06-30</th>\n",
       "      <th>2004-06-29</th>\n",
       "      <th>2004-06-28</th>\n",
       "      <th>2004-06-25</th>\n",
       "      <th>2004-06-24</th>\n",
       "      <th>2004-06-23</th>\n",
       "    </tr>\n",
       "  </thead>\n",
       "  <tbody>\n",
       "    <tr>\n",
       "      <td>4. close</td>\n",
       "      <td>189.5000</td>\n",
       "      <td>193.3600</td>\n",
       "      <td>192.8700</td>\n",
       "      <td>191.0900</td>\n",
       "      <td>189.9500</td>\n",
       "      <td>188.6400</td>\n",
       "      <td>189.4600</td>\n",
       "      <td>189.1100</td>\n",
       "      <td>189.1200</td>\n",
       "      <td>185.7200</td>\n",
       "      <td>...</td>\n",
       "      <td>16.3100</td>\n",
       "      <td>17.0000</td>\n",
       "      <td>16.9800</td>\n",
       "      <td>16.0300</td>\n",
       "      <td>16.0700</td>\n",
       "      <td>16.4000</td>\n",
       "      <td>16.0000</td>\n",
       "      <td>15.8000</td>\n",
       "      <td>16.7600</td>\n",
       "      <td>17.2000</td>\n",
       "    </tr>\n",
       "    <tr>\n",
       "      <td>5. adjusted close</td>\n",
       "      <td>189.5000</td>\n",
       "      <td>193.3600</td>\n",
       "      <td>192.8700</td>\n",
       "      <td>191.0900</td>\n",
       "      <td>189.9500</td>\n",
       "      <td>188.6400</td>\n",
       "      <td>189.4600</td>\n",
       "      <td>189.1100</td>\n",
       "      <td>189.1200</td>\n",
       "      <td>185.7200</td>\n",
       "      <td>...</td>\n",
       "      <td>4.0775</td>\n",
       "      <td>4.2500</td>\n",
       "      <td>4.2450</td>\n",
       "      <td>4.0075</td>\n",
       "      <td>4.0175</td>\n",
       "      <td>4.1000</td>\n",
       "      <td>4.0000</td>\n",
       "      <td>3.9500</td>\n",
       "      <td>4.1900</td>\n",
       "      <td>4.3000</td>\n",
       "    </tr>\n",
       "    <tr>\n",
       "      <td>6. volume</td>\n",
       "      <td>5241904</td>\n",
       "      <td>5449529</td>\n",
       "      <td>3901401</td>\n",
       "      <td>4957013</td>\n",
       "      <td>3598651</td>\n",
       "      <td>3129214</td>\n",
       "      <td>4533345</td>\n",
       "      <td>4298229</td>\n",
       "      <td>3872433</td>\n",
       "      <td>3712487</td>\n",
       "      <td>...</td>\n",
       "      <td>446900</td>\n",
       "      <td>304200</td>\n",
       "      <td>248300</td>\n",
       "      <td>438700</td>\n",
       "      <td>521900</td>\n",
       "      <td>528000</td>\n",
       "      <td>567700</td>\n",
       "      <td>1677500</td>\n",
       "      <td>2221800</td>\n",
       "      <td>10893600</td>\n",
       "    </tr>\n",
       "    <tr>\n",
       "      <td>7. dividend amount</td>\n",
       "      <td>0.0000</td>\n",
       "      <td>0.0000</td>\n",
       "      <td>0.0000</td>\n",
       "      <td>0.0000</td>\n",
       "      <td>0.0000</td>\n",
       "      <td>0.0000</td>\n",
       "      <td>0.0000</td>\n",
       "      <td>0.0000</td>\n",
       "      <td>0.0000</td>\n",
       "      <td>0.0000</td>\n",
       "      <td>...</td>\n",
       "      <td>0.0000</td>\n",
       "      <td>0.0000</td>\n",
       "      <td>0.0000</td>\n",
       "      <td>0.0000</td>\n",
       "      <td>0.0000</td>\n",
       "      <td>0.0000</td>\n",
       "      <td>0.0000</td>\n",
       "      <td>0.0000</td>\n",
       "      <td>0.0000</td>\n",
       "      <td>0.0000</td>\n",
       "    </tr>\n",
       "    <tr>\n",
       "      <td>8. split coefficient</td>\n",
       "      <td>1.0000</td>\n",
       "      <td>1.0000</td>\n",
       "      <td>1.0000</td>\n",
       "      <td>1.0000</td>\n",
       "      <td>1.0000</td>\n",
       "      <td>1.0000</td>\n",
       "      <td>1.0000</td>\n",
       "      <td>1.0000</td>\n",
       "      <td>1.0000</td>\n",
       "      <td>1.0000</td>\n",
       "      <td>...</td>\n",
       "      <td>1.0000</td>\n",
       "      <td>1.0000</td>\n",
       "      <td>1.0000</td>\n",
       "      <td>1.0000</td>\n",
       "      <td>1.0000</td>\n",
       "      <td>1.0000</td>\n",
       "      <td>1.0000</td>\n",
       "      <td>1.0000</td>\n",
       "      <td>1.0000</td>\n",
       "      <td>1.0000</td>\n",
       "    </tr>\n",
       "  </tbody>\n",
       "</table>\n",
       "<p>5 rows × 3944 columns</p>\n",
       "</div>"
      ],
      "text/plain": [
       "                     2020-02-21 2020-02-20 2020-02-19 2020-02-18 2020-02-14  \\\n",
       "4. close               189.5000   193.3600   192.8700   191.0900   189.9500   \n",
       "5. adjusted close      189.5000   193.3600   192.8700   191.0900   189.9500   \n",
       "6. volume               5241904    5449529    3901401    4957013    3598651   \n",
       "7. dividend amount       0.0000     0.0000     0.0000     0.0000     0.0000   \n",
       "8. split coefficient     1.0000     1.0000     1.0000     1.0000     1.0000   \n",
       "\n",
       "                     2020-02-13 2020-02-12 2020-02-11 2020-02-10 2020-02-07  \\\n",
       "4. close               188.6400   189.4600   189.1100   189.1200   185.7200   \n",
       "5. adjusted close      188.6400   189.4600   189.1100   189.1200   185.7200   \n",
       "6. volume               3129214    4533345    4298229    3872433    3712487   \n",
       "7. dividend amount       0.0000     0.0000     0.0000     0.0000     0.0000   \n",
       "8. split coefficient     1.0000     1.0000     1.0000     1.0000     1.0000   \n",
       "\n",
       "                      ... 2004-07-07 2004-07-06 2004-07-02 2004-07-01  \\\n",
       "4. close              ...    16.3100    17.0000    16.9800    16.0300   \n",
       "5. adjusted close     ...     4.0775     4.2500     4.2450     4.0075   \n",
       "6. volume             ...     446900     304200     248300     438700   \n",
       "7. dividend amount    ...     0.0000     0.0000     0.0000     0.0000   \n",
       "8. split coefficient  ...     1.0000     1.0000     1.0000     1.0000   \n",
       "\n",
       "                     2004-06-30 2004-06-29 2004-06-28 2004-06-25 2004-06-24  \\\n",
       "4. close                16.0700    16.4000    16.0000    15.8000    16.7600   \n",
       "5. adjusted close        4.0175     4.1000     4.0000     3.9500     4.1900   \n",
       "6. volume                521900     528000     567700    1677500    2221800   \n",
       "7. dividend amount       0.0000     0.0000     0.0000     0.0000     0.0000   \n",
       "8. split coefficient     1.0000     1.0000     1.0000     1.0000     1.0000   \n",
       "\n",
       "                     2004-06-23  \n",
       "4. close                17.2000  \n",
       "5. adjusted close        4.3000  \n",
       "6. volume              10893600  \n",
       "7. dividend amount       0.0000  \n",
       "8. split coefficient     1.0000  \n",
       "\n",
       "[5 rows x 3944 columns]"
      ]
     },
     "execution_count": 4,
     "metadata": {},
     "output_type": "execute_result"
    }
   ],
   "source": [
    "df.tail() # initial look of df"
   ]
  },
  {
   "cell_type": "markdown",
   "metadata": {},
   "source": [
    "We need to transpose our table to have proper format for the analysis and forecasting. Rows will be columsn, and columns should be converted to rows."
   ]
  },
  {
   "cell_type": "code",
   "execution_count": 5,
   "metadata": {
    "jupyter": {
     "source_hidden": true
    }
   },
   "outputs": [],
   "source": [
    "# saving as csv\n",
    "# df.to_csv('CRM_stock')"
   ]
  },
  {
   "cell_type": "code",
   "execution_count": 6,
   "metadata": {},
   "outputs": [],
   "source": [
    "# transposing the dataframe\n",
    "pd.to_datetime(df.columns)\n",
    "df_transposed = df.transpose().set_index(df.columns)"
   ]
  },
  {
   "cell_type": "code",
   "execution_count": 7,
   "metadata": {},
   "outputs": [
    {
     "data": {
      "text/html": [
       "<div>\n",
       "<style scoped>\n",
       "    .dataframe tbody tr th:only-of-type {\n",
       "        vertical-align: middle;\n",
       "    }\n",
       "\n",
       "    .dataframe tbody tr th {\n",
       "        vertical-align: top;\n",
       "    }\n",
       "\n",
       "    .dataframe thead th {\n",
       "        text-align: right;\n",
       "    }\n",
       "</style>\n",
       "<table border=\"1\" class=\"dataframe\">\n",
       "  <thead>\n",
       "    <tr style=\"text-align: right;\">\n",
       "      <th></th>\n",
       "      <th>1. open</th>\n",
       "      <th>2. high</th>\n",
       "      <th>3. low</th>\n",
       "      <th>4. close</th>\n",
       "      <th>5. adjusted close</th>\n",
       "      <th>6. volume</th>\n",
       "      <th>7. dividend amount</th>\n",
       "      <th>8. split coefficient</th>\n",
       "    </tr>\n",
       "  </thead>\n",
       "  <tbody>\n",
       "    <tr>\n",
       "      <td>2020-02-21</td>\n",
       "      <td>191.8400</td>\n",
       "      <td>192.0400</td>\n",
       "      <td>186.7200</td>\n",
       "      <td>189.5000</td>\n",
       "      <td>189.5000</td>\n",
       "      <td>5241904</td>\n",
       "      <td>0.0000</td>\n",
       "      <td>1.0000</td>\n",
       "    </tr>\n",
       "    <tr>\n",
       "      <td>2020-02-20</td>\n",
       "      <td>194.0000</td>\n",
       "      <td>195.7200</td>\n",
       "      <td>189.7700</td>\n",
       "      <td>193.3600</td>\n",
       "      <td>193.3600</td>\n",
       "      <td>5449529</td>\n",
       "      <td>0.0000</td>\n",
       "      <td>1.0000</td>\n",
       "    </tr>\n",
       "    <tr>\n",
       "      <td>2020-02-19</td>\n",
       "      <td>192.0000</td>\n",
       "      <td>193.9200</td>\n",
       "      <td>191.8000</td>\n",
       "      <td>192.8700</td>\n",
       "      <td>192.8700</td>\n",
       "      <td>3901401</td>\n",
       "      <td>0.0000</td>\n",
       "      <td>1.0000</td>\n",
       "    </tr>\n",
       "    <tr>\n",
       "      <td>2020-02-18</td>\n",
       "      <td>190.9500</td>\n",
       "      <td>191.5000</td>\n",
       "      <td>188.9200</td>\n",
       "      <td>191.0900</td>\n",
       "      <td>191.0900</td>\n",
       "      <td>4957013</td>\n",
       "      <td>0.0000</td>\n",
       "      <td>1.0000</td>\n",
       "    </tr>\n",
       "    <tr>\n",
       "      <td>2020-02-14</td>\n",
       "      <td>189.3500</td>\n",
       "      <td>190.2500</td>\n",
       "      <td>188.1000</td>\n",
       "      <td>189.9500</td>\n",
       "      <td>189.9500</td>\n",
       "      <td>3598651</td>\n",
       "      <td>0.0000</td>\n",
       "      <td>1.0000</td>\n",
       "    </tr>\n",
       "  </tbody>\n",
       "</table>\n",
       "</div>"
      ],
      "text/plain": [
       "             1. open   2. high    3. low  4. close 5. adjusted close  \\\n",
       "2020-02-21  191.8400  192.0400  186.7200  189.5000          189.5000   \n",
       "2020-02-20  194.0000  195.7200  189.7700  193.3600          193.3600   \n",
       "2020-02-19  192.0000  193.9200  191.8000  192.8700          192.8700   \n",
       "2020-02-18  190.9500  191.5000  188.9200  191.0900          191.0900   \n",
       "2020-02-14  189.3500  190.2500  188.1000  189.9500          189.9500   \n",
       "\n",
       "           6. volume 7. dividend amount 8. split coefficient  \n",
       "2020-02-21   5241904             0.0000               1.0000  \n",
       "2020-02-20   5449529             0.0000               1.0000  \n",
       "2020-02-19   3901401             0.0000               1.0000  \n",
       "2020-02-18   4957013             0.0000               1.0000  \n",
       "2020-02-14   3598651             0.0000               1.0000  "
      ]
     },
     "execution_count": 7,
     "metadata": {},
     "output_type": "execute_result"
    }
   ],
   "source": [
    "df_transposed.head() # initial look"
   ]
  },
  {
   "cell_type": "markdown",
   "metadata": {},
   "source": [
    "Now that we have proper format, we should drop irrelevant columns. For simplicity, I will keep ajusted close, and volume columns."
   ]
  },
  {
   "cell_type": "code",
   "execution_count": 8,
   "metadata": {},
   "outputs": [],
   "source": [
    "# removing unused features\n",
    "df_transposed.drop(columns=['1. open','2. high', '3. low', '4. close','7. dividend amount','8. split coefficient'],inplace=True)"
   ]
  },
  {
   "cell_type": "code",
   "execution_count": 9,
   "metadata": {},
   "outputs": [
    {
     "data": {
      "text/html": [
       "<div>\n",
       "<style scoped>\n",
       "    .dataframe tbody tr th:only-of-type {\n",
       "        vertical-align: middle;\n",
       "    }\n",
       "\n",
       "    .dataframe tbody tr th {\n",
       "        vertical-align: top;\n",
       "    }\n",
       "\n",
       "    .dataframe thead th {\n",
       "        text-align: right;\n",
       "    }\n",
       "</style>\n",
       "<table border=\"1\" class=\"dataframe\">\n",
       "  <thead>\n",
       "    <tr style=\"text-align: right;\">\n",
       "      <th></th>\n",
       "      <th>5. adjusted close</th>\n",
       "      <th>6. volume</th>\n",
       "    </tr>\n",
       "  </thead>\n",
       "  <tbody>\n",
       "    <tr>\n",
       "      <td>2020-02-21</td>\n",
       "      <td>189.5000</td>\n",
       "      <td>5241904</td>\n",
       "    </tr>\n",
       "    <tr>\n",
       "      <td>2020-02-20</td>\n",
       "      <td>193.3600</td>\n",
       "      <td>5449529</td>\n",
       "    </tr>\n",
       "    <tr>\n",
       "      <td>2020-02-19</td>\n",
       "      <td>192.8700</td>\n",
       "      <td>3901401</td>\n",
       "    </tr>\n",
       "    <tr>\n",
       "      <td>2020-02-18</td>\n",
       "      <td>191.0900</td>\n",
       "      <td>4957013</td>\n",
       "    </tr>\n",
       "    <tr>\n",
       "      <td>2020-02-14</td>\n",
       "      <td>189.9500</td>\n",
       "      <td>3598651</td>\n",
       "    </tr>\n",
       "  </tbody>\n",
       "</table>\n",
       "</div>"
      ],
      "text/plain": [
       "           5. adjusted close 6. volume\n",
       "2020-02-21          189.5000   5241904\n",
       "2020-02-20          193.3600   5449529\n",
       "2020-02-19          192.8700   3901401\n",
       "2020-02-18          191.0900   4957013\n",
       "2020-02-14          189.9500   3598651"
      ]
     },
     "execution_count": 9,
     "metadata": {},
     "output_type": "execute_result"
    }
   ],
   "source": [
    "df_transposed.head() "
   ]
  },
  {
   "cell_type": "markdown",
   "metadata": {},
   "source": [
    "Let's convert data types to float. We can do that using astype method of pandas library."
   ]
  },
  {
   "cell_type": "code",
   "execution_count": 10,
   "metadata": {},
   "outputs": [],
   "source": [
    "# converting dtypes to float\n",
    "df_transposed['5. adjusted close'] = df_transposed['5. adjusted close'].astype(float)\n",
    "df_transposed['6. volume'] = df_transposed['6. volume'].astype(float)"
   ]
  },
  {
   "cell_type": "code",
   "execution_count": 11,
   "metadata": {},
   "outputs": [],
   "source": [
    "df_transposed.sort_index(ascending=True,inplace=True) # sorting in ascending format"
   ]
  },
  {
   "cell_type": "code",
   "execution_count": 12,
   "metadata": {},
   "outputs": [],
   "source": [
    "df_transposed.index = pd.to_datetime(df_transposed.index) # converting indices to datetime"
   ]
  },
  {
   "cell_type": "code",
   "execution_count": 13,
   "metadata": {},
   "outputs": [
    {
     "data": {
      "text/plain": [
       "DatetimeIndex(['2004-06-23', '2004-06-24', '2004-06-25', '2004-06-28',\n",
       "               '2004-06-29', '2004-06-30', '2004-07-01', '2004-07-02',\n",
       "               '2004-07-06', '2004-07-07',\n",
       "               ...\n",
       "               '2020-02-07', '2020-02-10', '2020-02-11', '2020-02-12',\n",
       "               '2020-02-13', '2020-02-14', '2020-02-18', '2020-02-19',\n",
       "               '2020-02-20', '2020-02-21'],\n",
       "              dtype='datetime64[ns]', length=3944, freq=None)"
      ]
     },
     "execution_count": 13,
     "metadata": {},
     "output_type": "execute_result"
    }
   ],
   "source": [
    "df_transposed.index"
   ]
  },
  {
   "cell_type": "markdown",
   "metadata": {},
   "source": [
    "Let's split the data to weekly,monthly, quarterly, and yearly basis. There is no actual purpose for doing  it. I just want to see how the stock price action looks on the chart on various time-frames."
   ]
  },
  {
   "cell_type": "code",
   "execution_count": 14,
   "metadata": {},
   "outputs": [],
   "source": [
    "# resampling to weekly, monthly, quarterly and yearly periods\n",
    "\n",
    "df_weekly = df_transposed.resample('W').mean()\n",
    "df_monthly = df_transposed.resample('M').mean()\n",
    "df_quart = df_transposed.resample('Q-DEC').mean()\n",
    "df_annual = df_transposed.resample('A-DEC').mean()"
   ]
  },
  {
   "cell_type": "code",
   "execution_count": 15,
   "metadata": {},
   "outputs": [
    {
     "data": {
      "text/html": [
       "<div>\n",
       "<style scoped>\n",
       "    .dataframe tbody tr th:only-of-type {\n",
       "        vertical-align: middle;\n",
       "    }\n",
       "\n",
       "    .dataframe tbody tr th {\n",
       "        vertical-align: top;\n",
       "    }\n",
       "\n",
       "    .dataframe thead th {\n",
       "        text-align: right;\n",
       "    }\n",
       "</style>\n",
       "<table border=\"1\" class=\"dataframe\">\n",
       "  <thead>\n",
       "    <tr style=\"text-align: right;\">\n",
       "      <th></th>\n",
       "      <th>5. adjusted close</th>\n",
       "      <th>6. volume</th>\n",
       "    </tr>\n",
       "  </thead>\n",
       "  <tbody>\n",
       "    <tr>\n",
       "      <td>2004-06-27</td>\n",
       "      <td>4.146667</td>\n",
       "      <td>4.930967e+06</td>\n",
       "    </tr>\n",
       "    <tr>\n",
       "      <td>2004-07-04</td>\n",
       "      <td>4.074000</td>\n",
       "      <td>4.609200e+05</td>\n",
       "    </tr>\n",
       "    <tr>\n",
       "      <td>2004-07-11</td>\n",
       "      <td>4.090625</td>\n",
       "      <td>3.612750e+05</td>\n",
       "    </tr>\n",
       "    <tr>\n",
       "      <td>2004-07-18</td>\n",
       "      <td>3.991000</td>\n",
       "      <td>4.952800e+05</td>\n",
       "    </tr>\n",
       "    <tr>\n",
       "      <td>2004-07-25</td>\n",
       "      <td>3.489500</td>\n",
       "      <td>2.005720e+06</td>\n",
       "    </tr>\n",
       "  </tbody>\n",
       "</table>\n",
       "</div>"
      ],
      "text/plain": [
       "            5. adjusted close     6. volume\n",
       "2004-06-27           4.146667  4.930967e+06\n",
       "2004-07-04           4.074000  4.609200e+05\n",
       "2004-07-11           4.090625  3.612750e+05\n",
       "2004-07-18           3.991000  4.952800e+05\n",
       "2004-07-25           3.489500  2.005720e+06"
      ]
     },
     "execution_count": 15,
     "metadata": {},
     "output_type": "execute_result"
    }
   ],
   "source": [
    "df_weekly.head()"
   ]
  },
  {
   "cell_type": "code",
   "execution_count": 16,
   "metadata": {},
   "outputs": [
    {
     "data": {
      "image/png": "[encoded data removed]",
      "text/plain": [
       "<Figure size 1080x504 with 4 Axes>"
      ]
     },
     "metadata": {
      "needs_background": "light"
     },
     "output_type": "display_data"
    }
   ],
   "source": [
    "# plots\n",
    "\n",
    "fig = plt.figure(figsize=[15, 7])\n",
    "plt.suptitle('CRM Price, mean USD', fontsize=18)\n",
    "\n",
    "plt.subplot(221)\n",
    "plt.plot(df_weekly['5. adjusted close'], '-', label='By Week')\n",
    "plt.legend()\n",
    "\n",
    "plt.subplot(222)\n",
    "plt.plot(df_monthly['5. adjusted close'], '-', label='By Months')\n",
    "plt.legend()\n",
    "\n",
    "plt.subplot(223)\n",
    "plt.plot(df_quart['5. adjusted close'], '-', label='By Quarter')\n",
    "plt.legend()\n",
    "\n",
    "plt.subplot(224)\n",
    "plt.plot(df_annual['5. adjusted close'], '-', label='By Year')\n",
    "plt.legend()\n",
    "\n",
    "# plt.tight_layout()\n",
    "plt.show()"
   ]
  },
  {
   "cell_type": "markdown",
   "metadata": {},
   "source": [
    "We can see on the graph when we take average of larger time periods the line gets smoother and smoother. I will predict monthly stock price of the Salesforce Inc. "
   ]
  },
  {
   "cell_type": "code",
   "execution_count": 17,
   "metadata": {},
   "outputs": [],
   "source": [
    "# rename price column\n",
    "def rename_col(df,col):\n",
    "    df.rename(columns={col: \"Price\"},inplace=True)"
   ]
  },
  {
   "cell_type": "code",
   "execution_count": 18,
   "metadata": {},
   "outputs": [],
   "source": [
    "#renaming\n",
    "rename_col(df_weekly,'5. adjusted close')\n",
    "rename_col(df_monthly,'5. adjusted close')\n",
    "rename_col(df_quart,'5. adjusted close')\n",
    "rename_col(df_annual,'5. adjusted close')"
   ]
  },
  {
   "cell_type": "markdown",
   "metadata": {},
   "source": [
    "# Stationarity Check\n",
    "\n",
    "In statistic, and in time-series analysis we need to check the data for stationarity. If the data is non-stationary we convert to stationary. \n",
    "\n",
    "In the most intuitive sense, <a href= 'https://towardsdatascience.com/stationarity-in-time-series-analysis-90c94f27322'> stationarity </a> means that the statistical properties of a process generating a time series do not change over time. "
   ]
  },
  {
   "cell_type": "markdown",
   "metadata": {},
   "source": [
    "Little function below plots seasonal decomposition of a time-series data, and returns p-value of Dickey-Fuller test."
   ]
  },
  {
   "cell_type": "code",
   "execution_count": 19,
   "metadata": {},
   "outputs": [],
   "source": [
    "# dickey-fuller test for stationary check\n",
    "def DF_test(df):\n",
    "    plt.figure(figsize=[10,5])\n",
    "    sm.tsa.seasonal_decompose(df.Price).plot()\n",
    "    print(\"Dickey–Fuller test: p=%f\" % sm.tsa.stattools.adfuller(df.Price)[1])\n",
    "    plt.show()"
   ]
  },
  {
   "cell_type": "markdown",
   "metadata": {},
   "source": [
    "## Dickey-Fuller Test\n",
    "\n",
    "In statistics, the Dickey–Fuller test tests the null hypothesis that a unit root is present in an autoregressive model. The alternative hypothesis is different depending on which version of the test is used, but is usually stationarity or trend-stationarity. It is named after the statisticians David Dickey and Wayne Fuller, who developed the test in 1979 (<a href='https://en.wikipedia.org/wiki/Dickey–Fuller_test'>Wikipedia</a>)"
   ]
  },
  {
   "cell_type": "markdown",
   "metadata": {},
   "source": [
    "### Seasonal Decomposition\n",
    "\n",
    "It is a technique to analyze time-series data. Obeserved data is split into 3 parts: Trend, Seasonal, and Residuals (noise).\n",
    "\n",
    "* Trend is basically direction of an obeserved data at a time. In our case, the stock price is in up-trend.\n",
    "* Seasonal data reveals patterns in data that is affected by seasonal factors, and it's repeatly occurs within certain time-frame.\n",
    "* Residuals is a noise in the data. It is a remainder when trend and seasonality are removed.\n",
    "\n",
    "\n",
    "Decomposition is primarily used for time series analysis, and as an analysis tool it can be used to inform forecasting models on your problem. It helps to break down your problem and think in structured way.\n",
    "\n",
    "\n",
    "<a href ='https://en.wikipedia.org/wiki/Decomposition_of_time_series'> Learn more </a>"
   ]
  },
  {
   "cell_type": "code",
   "execution_count": 20,
   "metadata": {},
   "outputs": [
    {
     "name": "stdout",
     "output_type": "stream",
     "text": [
      "Dickey–Fuller test: p=1.000000\n"
     ]
    },
    {
     "data": {
      "text/plain": [
       "<Figure size 720x360 with 0 Axes>"
      ]
     },
     "metadata": {},
     "output_type": "display_data"
    },
    {
     "data": {
      "image/png": "[encoded data removed]",
      "text/plain": [
       "<Figure size 432x288 with 4 Axes>"
      ]
     },
     "metadata": {
      "needs_background": "light"
     },
     "output_type": "display_data"
    }
   ],
   "source": [
    "DF_test(df_monthly)"
   ]
  },
  {
   "cell_type": "markdown",
   "metadata": {},
   "source": [
    "Dickey-Fuller test indicates that the data is not stationary as we can see on the graph. P-value is 1.0. We failed to reject null-hypothesis that our data is stationary. P-value should less than or equal to 0.05.\n",
    "\n",
    "To achieve stationary state we can do various data tranformations. For example, let's try box-cox transformationa and see if we the data stationary...\n",
    "\n",
    "\n",
    "**Box-Cox Transformation**\n",
    "\n",
    "In statistics, a power transform is a family of functions that are applied to create a monotonic transformation of data using power functions. This is a useful data transformation technique used to stabilize variance, make the data more normal distribution-like, improve the validity of measures of association such as the Pearson correlation between variables and for other data stabilization procedures."
   ]
  },
  {
   "cell_type": "code",
   "execution_count": 25,
   "metadata": {},
   "outputs": [],
   "source": [
    "# Box-Cox Transformations\n",
    "def box_cox(df):\n",
    "    df['Price_box'], lmbda = stats.boxcox(df['Price'])\n",
    "    print(\"Dickey–Fuller test: p=%f\" % sm.tsa.stattools.adfuller(df['Price_box'])[1])"
   ]
  },
  {
   "cell_type": "code",
   "execution_count": 27,
   "metadata": {},
   "outputs": [
    {
     "name": "stdout",
     "output_type": "stream",
     "text": [
      "Dickey–Fuller test: p=0.871254\n"
     ]
    }
   ],
   "source": [
    "df_monthly['Price_box'], lmbda = stats.boxcox(df_monthly['Price'])\n",
    "print(\"Dickey–Fuller test: p=%f\" % sm.tsa.stattools.adfuller(df_monthly['Price_box'])[1])"
   ]
  },
  {
   "cell_type": "markdown",
   "metadata": {},
   "source": [
    "After Box-Cox transformation our data is still non-stationary. Let's apply log transformation on the data."
   ]
  },
  {
   "cell_type": "code",
   "execution_count": 31,
   "metadata": {},
   "outputs": [],
   "source": [
    "# log tranformation\n",
    "def log_transformation(df):\n",
    "    df['price_log']=df['Price'].apply(lambda x: np.log(x))\n",
    "    print(\"Dickey–Fuller test: p=%f\" % sm.tsa.stattools.adfuller(df['price_log'])[1])"
   ]
  },
  {
   "cell_type": "code",
   "execution_count": 2,
   "metadata": {},
   "outputs": [
    {
     "ename": "NameError",
     "evalue": "name 'log_transformation' is not defined",
     "output_type": "error",
     "traceback": [
      "\u001b[0;31m---------------------------------------------------------------------------\u001b[0m",
      "\u001b[0;31mNameError\u001b[0m                                 Traceback (most recent call last)",
      "\u001b[0;32m<ipython-input-2-08a9f9683a50>\u001b[0m in \u001b[0;36m<module>\u001b[0;34m\u001b[0m\n\u001b[1;32m      1\u001b[0m \u001b[0;31m# log tranformation\u001b[0m\u001b[0;34m\u001b[0m\u001b[0;34m\u001b[0m\u001b[0;34m\u001b[0m\u001b[0m\n\u001b[0;32m----> 2\u001b[0;31m \u001b[0mlog_transformation\u001b[0m\u001b[0;34m(\u001b[0m\u001b[0mdf_monthly\u001b[0m\u001b[0;34m)\u001b[0m\u001b[0;34m\u001b[0m\u001b[0;34m\u001b[0m\u001b[0m\n\u001b[0m",
      "\u001b[0;31mNameError\u001b[0m: name 'log_transformation' is not defined"
     ]
    }
   ],
   "source": [
    "# log tranformation\n",
    "log_transformation(df_monthly)"
   ]
  },
  {
   "cell_type": "code",
   "execution_count": 33,
   "metadata": {},
   "outputs": [
    {
     "name": "stdout",
     "output_type": "stream",
     "text": [
      "Dickey–Fuller test: p=0.003912\n"
     ]
    }
   ],
   "source": [
    "# Seasonal differentiation\n",
    "df_monthly['prices_box_diff'] = df_monthly.Price_box - df_monthly.Price_box.shift(12)\n",
    "print(\"Dickey–Fuller test: p=%f\" % sm.tsa.stattools.adfuller(df_monthly.prices_box_diff[12:])[1])"
   ]
  },
  {
   "cell_type": "code",
   "execution_count": 34,
   "metadata": {},
   "outputs": [
    {
     "name": "stdout",
     "output_type": "stream",
     "text": [
      "Dickey–Fuller test: p=0.003912\n"
     ]
    },
    {
     "data": {
      "image/png": "[encoded data removed]",
      "text/plain": [
       "<Figure size 432x288 with 4 Axes>"
      ]
     },
     "metadata": {
      "needs_background": "light"
     },
     "output_type": "display_data"
    }
   ],
   "source": [
    "sm.tsa.seasonal_decompose(df_monthly['prices_box_diff'][13:]).plot()   \n",
    "print(\"Dickey–Fuller test: p=%f\" % sm.tsa.stattools.adfuller(df_monthly['prices_box_diff'][12:])[1])\n",
    "\n",
    "plt.show()"
   ]
  },
  {
   "cell_type": "markdown",
   "metadata": {},
   "source": [
    "Now our data is stationarized, so we can move to predicting. You can check <a href='https://medium.com/@aabdygaziev/salesforce-inc-stock-price-prediction-time-series-analysis-299bc3f1b631'> Salesforce stock price prediction' </a> on my Medium blog post."
   ]
  },
  {
   "cell_type": "code",
   "execution_count": null,
   "metadata": {},
   "outputs": [],
   "source": []
  }
 ],
 "metadata": {
  "kernelspec": {
   "display_name": "Python 3",
   "language": "python",
   "name": "python3"
  },
  "language_info": {
   "codemirror_mode": {
    "name": "ipython",
    "version": 3
   },
   "file_extension": ".py",
   "mimetype": "text/x-python",
   "name": "python",
   "nbconvert_exporter": "python",
   "pygments_lexer": "ipython3",
   "version": "3.7.6"
  }
 },
 "nbformat": 4,
 "nbformat_minor": 4
}
